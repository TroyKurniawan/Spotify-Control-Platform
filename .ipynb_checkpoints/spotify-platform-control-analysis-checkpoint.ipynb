{
 "cells": [
  {
   "cell_type": "markdown",
   "metadata": {},
   "source": [
    "\n",
    "## Randomized algorithms and quicksort."
   ]
  },
  {
   "cell_type": "code",
   "execution_count": 2,
   "metadata": {},
   "outputs": [
    {
     "ename": "SyntaxError",
     "evalue": "invalid syntax (<ipython-input-2-9bdb329a1754>, line 5)",
     "output_type": "error",
     "traceback": [
      "\u001b[1;36m  File \u001b[1;32m\"<ipython-input-2-9bdb329a1754>\"\u001b[1;36m, line \u001b[1;32m5\u001b[0m\n\u001b[1;33m    from Spotify-Control-Platform import *\u001b[0m\n\u001b[1;37m                ^\u001b[0m\n\u001b[1;31mSyntaxError\u001b[0m\u001b[1;31m:\u001b[0m invalid syntax\n"
     ]
    }
   ],
   "source": [
    "%matplotlib inline\n",
    "import matplotlib\n",
    "import numpy as np\n",
    "import matplotlib.pyplot as plt\n",
    "from Spotify-Control-Platform import *"
   ]
  },
  {
   "cell_type": "markdown",
   "metadata": {},
   "source": [
    "Here's a quick-and-dirty implementation of quickSort"
   ]
  },
  {
   "cell_type": "code",
   "execution_count": 2,
   "metadata": {
    "collapsed": true
   },
   "outputs": [],
   "source": [
    "def dumbQuickSort(A):\n",
    "    if len(A) <= 1:\n",
    "        return A\n",
    "    L = []\n",
    "    R = []\n",
    "    p = choice(range(len(A))) # random pivot\n",
    "    E = [A[p]] # this is a list of all the things that are equal to the pivot.\n",
    "    for i in range(len(A)):\n",
    "        if i == p:\n",
    "            continue\n",
    "        if A[i] < A[p]:\n",
    "            L.append(A[i])\n",
    "        elif A[i] > A[p]:\n",
    "            R.append(A[i])\n",
    "        else:\n",
    "            E.append(A[i])\n",
    "    return dumbQuickSort(L) + E + dumbQuickSort(R)"
   ]
  },
  {
   "cell_type": "code",
   "execution_count": 1,
   "metadata": {},
   "outputs": [
    {
     "ename": "NameError",
     "evalue": "name 'QS' is not defined",
     "output_type": "error",
     "traceback": [
      "\u001b[1;31m---------------------------------------------------------------------------\u001b[0m",
      "\u001b[1;31mNameError\u001b[0m                                 Traceback (most recent call last)",
      "\u001b[1;32m<ipython-input-1-e5d6d581e64a>\u001b[0m in \u001b[0;36m<module>\u001b[1;34m()\u001b[0m\n\u001b[0;32m      1\u001b[0m \u001b[1;31m# sanity check\u001b[0m\u001b[1;33m\u001b[0m\u001b[1;33m\u001b[0m\u001b[0m\n\u001b[0;32m      2\u001b[0m \u001b[0mA\u001b[0m \u001b[1;33m=\u001b[0m \u001b[1;33m[\u001b[0m\u001b[1;36m1\u001b[0m\u001b[1;33m,\u001b[0m\u001b[1;36m4\u001b[0m\u001b[1;33m,\u001b[0m\u001b[1;36m1\u001b[0m\u001b[1;33m,\u001b[0m\u001b[1;36m23\u001b[0m\u001b[1;33m,\u001b[0m\u001b[1;36m6\u001b[0m\u001b[1;33m,\u001b[0m\u001b[1;36m6\u001b[0m\u001b[1;33m,\u001b[0m\u001b[1;36m3\u001b[0m\u001b[1;33m,\u001b[0m\u001b[1;36m2\u001b[0m\u001b[1;33m,\u001b[0m\u001b[1;36m4\u001b[0m\u001b[1;33m]\u001b[0m\u001b[1;33m\u001b[0m\u001b[0m\n\u001b[1;32m----> 3\u001b[1;33m \u001b[0mQS\u001b[0m\u001b[1;33m(\u001b[0m\u001b[0mA\u001b[0m\u001b[1;33m)\u001b[0m\u001b[1;33m\u001b[0m\u001b[0m\n\u001b[0m",
      "\u001b[1;31mNameError\u001b[0m: name 'QS' is not defined"
     ]
    }
   ],
   "source": [
    "# sanity check\n",
    "A = [1,4,1,23,6,6,3,2,4]\n",
    "QS(A)"
   ]
  },
  {
   "cell_type": "markdown",
   "metadata": {},
   "source": [
    "And here are two slicker implementations that don't initialize a separate L and R list.  (So they use less memory)."
   ]
  },
  {
   "cell_type": "code",
   "execution_count": 24,
   "metadata": {
    "collapsed": true
   },
   "outputs": [],
   "source": [
    "## First, a few helper functions:\n",
    "\n",
    "# swap A[i] with A[j]\n",
    "def swap(A, i, j):\n",
    "    tmp = A[i]\n",
    "    A[i] = A[j]\n",
    "    A[j] = tmp\n",
    "\n",
    "# Here's one in-place Partition algorithm. This is the one in CLRS\n",
    "def partition1(A, start, end, p):\n",
    "    # first put the pivot at the end\n",
    "    x = A[p]\n",
    "    swap(A, p, end-1)\n",
    "    # now do the algorithm described in CLRS (see the textbook for explanation)\n",
    "    i = start - 1\n",
    "    for j in range(start, end-1):\n",
    "        if A[j] <= x:\n",
    "            i += 1\n",
    "            swap(A, i, j)\n",
    "    # at this point all of the things <=i are smaller than the pivot, and > i are larger\n",
    "    # so put the pivot back where it needs to go.\n",
    "    swap(A, i+1, end-1)\n",
    "    return i+1\n",
    "\n",
    "\n",
    "# Here is a different in-place Partition algorithm.  This was the original one introduced by Hoare.\n",
    "def partition2(A, start, end, p):\n",
    "    # first swap to put the pivot at the end\n",
    "    x = A[p]\n",
    "    swap(A, p, end-1)\n",
    "    # walk pointers up and down the array in opposite directions, switching things until they are in the right place.\n",
    "    leftP = start\n",
    "    rightP = end-1 \n",
    "    while True:\n",
    "        while leftP < end-1 and A[leftP] <= x:\n",
    "            leftP += 1\n",
    "        while rightP > start and A[rightP] >= x:\n",
    "            rightP -= 1\n",
    "        if leftP >= rightP:\n",
    "            break\n",
    "        # now switch them.\n",
    "        swap(A, leftP, rightP)\n",
    "    # now put the pivot value in the right place and return that location\n",
    "    swap(A, end-1, leftP)\n",
    "    return leftP\n",
    "        \n",
    "# Finally, the quickSort algorithm.  \n",
    "# In addition to A, it also takes an optional input \"partition\" which is which partition function to use.\n",
    "def quickSort(A, partition=partition1):\n",
    "    return quickSortHelper(A, 0, len(A), partition)\n",
    "        \n",
    "def quickSortHelper(A, start, end, partition):\n",
    "    if end - start <= 1:\n",
    "        return \n",
    "    # choose a random pivot:\n",
    "    # p = choice(range(start, end))\n",
    "    p = start\n",
    "    # partition around the pivot:\n",
    "    pivotLocation = partition( A, start, end, p ) \n",
    "    # recurse:\n",
    "    quickSortHelper(A,start, pivotLocation ,partition)\n",
    "    quickSortHelper(A,pivotLocation + 1, end, partition)\n",
    "    return\n",
    "\n",
    "# define two versions of quicksort, one for each partition function, so we can compare later.\n",
    "def quickSort1(A):\n",
    "    return quickSort(A, partition1)\n",
    "def quickSort2(A):\n",
    "    return quickSort(A, partition2)"
   ]
  },
  {
   "cell_type": "code",
   "execution_count": 28,
   "metadata": {},
   "outputs": [
    {
     "name": "stdout",
     "output_type": "stream",
     "text": [
      "[1, 1, 2, 2, 3, 3, 4, 4, 5, 5, 234]\n",
      "[1, 1, 2, 2, 3, 3, 4, 4, 5, 5, 234]\n"
     ]
    }
   ],
   "source": [
    "# sanity check\n",
    "A = [5,4,2,3,1,1,2,3,4,5,234]\n",
    "quickSort1(A)\n",
    "print(A)\n",
    "quickSort2(A)\n",
    "print(A)"
   ]
  },
  {
   "cell_type": "markdown",
   "metadata": {},
   "source": [
    "Let's compare both our implementations to mergeSort"
   ]
  },
  {
   "cell_type": "code",
   "execution_count": 29,
   "metadata": {
    "collapsed": true
   },
   "outputs": [],
   "source": [
    "nVals = range(50, 3050, 100)\n",
    "nValsMerge, tValsMerge = trySortABunch(mergeSort, Ns=nVals, numTrials=10, listMax=100000)\n",
    "nValsQuick, tValsQuick = trySortABunch(quickSort1, Ns=nVals, numTrials=10, listMax=100000)\n",
    "nValsQuick2, tValsQuick2 = trySortABunch(quickSort2, Ns=nVals, numTrials=10, listMax=100000)\n",
    "nValsQuickDumb, tValsQuickDumb = trySortABunch(dumbQuickSort, Ns=nVals, numTrials=10, listMax=100000)"
   ]
  },
  {
   "cell_type": "code",
   "execution_count": 30,
   "metadata": {},
   "outputs": [
    {
     "data": {
      "image/png": "[encoded data removed]",
      "text/plain": [
       "<matplotlib.figure.Figure at 0x2cfc23b9c18>"
      ]
     },
     "metadata": {},
     "output_type": "display_data"
    }
   ],
   "source": [
    "plt.plot( nValsMerge, tValsMerge, \"--\", color=\"red\", label=\"myDumbMergeSort\" )\n",
    "plt.plot( nValsQuickDumb, tValsQuickDumb, color=\"blue\", label=\"myDumbQuickSort\" )\n",
    "plt.plot( nValsQuick, tValsQuick, \"-.\", color=\"green\", label=\"inPlaceQuickSort, CLRS Partition\" )\n",
    "plt.plot( nValsQuick2, tValsQuick2, \":\", color=\"purple\", label=\"inPlaceQuickSort, Hoare Partition\" )\n",
    "plt.xlabel(\"n\")\n",
    "plt.ylabel(\"Time(ms)\")\n",
    "plt.legend()\n",
    "plt.title(\"MergeSort v. QuickSort\")\n",
    "plt.show()"
   ]
  },
  {
   "cell_type": "code",
   "execution_count": null,
   "metadata": {
    "collapsed": true
   },
   "outputs": [],
   "source": []
  },
  {
   "cell_type": "code",
   "execution_count": null,
   "metadata": {
    "collapsed": true
   },
   "outputs": [],
   "source": []
  }
 ],
 "metadata": {
  "kernelspec": {
   "display_name": "Python 3",
   "language": "python",
   "name": "python3"
  },
  "language_info": {
   "codemirror_mode": {
    "name": "ipython",
    "version": 3
   },
   "file_extension": ".py",
   "mimetype": "text/x-python",
   "name": "python",
   "nbconvert_exporter": "python",
   "pygments_lexer": "ipython3",
   "version": "3.6.5"
  }
 },
 "nbformat": 4,
 "nbformat_minor": 1
}
